{
  "nbformat": 4,
  "nbformat_minor": 0,
  "metadata": {
    "colab": {
      "provenance": [],
      "authorship_tag": "ABX9TyNPgHauKiCJKQsJlbPN/Jwt",
      "include_colab_link": true
    },
    "kernelspec": {
      "name": "python3",
      "display_name": "Python 3"
    },
    "language_info": {
      "name": "python"
    }
  },
  "cells": [
    {
      "cell_type": "markdown",
      "metadata": {
        "id": "view-in-github",
        "colab_type": "text"
      },
      "source": [
        "<a href=\"https://colab.research.google.com/github/gkoorsen/Automatic_multi_docking/blob/main/Ligand_analysis.ipynb\" target=\"_parent\"><img src=\"https://colab.research.google.com/assets/colab-badge.svg\" alt=\"Open In Colab\"/></a>"
      ]
    },
    {
      "cell_type": "code",
      "execution_count": null,
      "metadata": {
        "id": "QHRYJPg8OuO-"
      },
      "outputs": [],
      "source": [
        "from google.colab import files\n",
        "import pandas as pd\n",
        "import os\n",
        "import requests\n",
        "\n",
        "\n",
        "def download_pdb_file(pdb_id: str) -> str:\n",
        "\n",
        "    PDB_DIR =\"/tmp/pdb/\"\n",
        "    os.makedirs(PDB_DIR, exist_ok=True)\n",
        "\n",
        "    # url or pdb_id\n",
        "    if pdb_id.startswith('http'):\n",
        "        url = pdb_id\n",
        "        filename = url.split('/')[-1]\n",
        "    elif pdb_id.endswith(\".pdb\"):\n",
        "        return pdb_id\n",
        "    else:\n",
        "        if pdb_id.startswith(\"AF\"):\n",
        "            url = f'https://alphafold.ebi.ac.uk/files/{pdb_id}-model_v3.pdb'\n",
        "        else:\n",
        "            url = f'http://files.rcsb.org/view/{pdb_id}.pdb'\n",
        "        filename = f'{pdb_id}.pdb'\n",
        "\n",
        "    cache_path = os.path.join(PDB_DIR, filename)\n",
        "    if os.path.exists(cache_path):\n",
        "        return cache_path\n",
        "\n",
        "    pdb_req = requests.get(url)\n",
        "    pdb_req.raise_for_status()\n",
        "    open(cache_path, 'w').write(pdb_req.text)\n",
        "    return cache_path\n",
        "\n",
        "def find_ligands(pdb_file):\n",
        "\n",
        "  ligand_counts = {}\n",
        "  ligand_names = {}\n",
        "\n",
        "  with open(pdb_file, 'r') as f:\n",
        "    for line in f:\n",
        "        if line.startswith(\"HETNAM\"):\n",
        "            ligand_code = line.split()[1].strip()\n",
        "            ligand_name = line.split()[2].strip()\n",
        "            ligand_names[ligand_code] = ligand_name\n",
        "        elif line.startswith(\"HET \"):\n",
        "            het_ligand = line.split()[1].strip()\n",
        "            chain = line.split()[2].strip()[0]\n",
        "            if het_ligand not in ligand_counts:\n",
        "                ligand_counts[het_ligand] = {'chain' : [], 'counts' : []}\n",
        "            if chain not in ligand_counts[het_ligand]['chain']:\n",
        "                ligand_counts[het_ligand]['chain'].append(chain)\n",
        "                ligand_counts[het_ligand]['counts'].append(1)\n",
        "            else:\n",
        "                position = ligand_counts[het_ligand]['chain'].index(chain)\n",
        "                ligand_counts[het_ligand]['counts'][position] += 1\n",
        "\n",
        "  return ligand_names, ligand_counts\n",
        "\n",
        "\n",
        "def analyse_ligands(pdb_files):\n",
        "\n",
        "  data = pd.DataFrame()\n",
        "  pdbs = []\n",
        "  ligs = []\n",
        "  names = []\n",
        "  chains = []\n",
        "  counts = []\n",
        "\n",
        "  for pdb_file in pdb_files:\n",
        "      ligand_dict, ligand_count_dict = find_ligands(pdb_file)\n",
        "      ligands = list(ligand_count_dict.keys())\n",
        "\n",
        "      # Display ligands with counts\n",
        "      for ligand in ligands:\n",
        "        for i,chain in enumerate(ligand_count_dict[ligand]['chain']):\n",
        "          pdbs.append(pdb_file[pdb_file.find('/pdb/')+5:pdb_file.find('.pdb')])\n",
        "          ligs.append(ligand)\n",
        "          names.append(ligand_dict[ligand])\n",
        "          chains.append(chain)\n",
        "          counts.append(ligand_count_dict[ligand]['counts'][i])\n",
        "\n",
        "  data['PDB'] = pdbs\n",
        "  data['Ligands'] = ligs\n",
        "  data['Names'] = names\n",
        "  data['Chain'] = chains\n",
        "  data['Count'] = counts\n",
        "\n",
        "  return data\n",
        "\n",
        "\n",
        "def main():\n",
        "  uploaded = files.upload()\n",
        "  file_name = list(uploaded.keys())[0]\n",
        "  df = pd.read_excel(file_name)\n",
        "\n",
        "  PDB_files = []\n",
        "\n",
        "  for pdb_id in df['PDBs'].dropna():\n",
        "    PDB_files.append(download_pdb_file(pdb_id.strip()))\n",
        "\n",
        "  data = analyse_ligands(PDB_files)\n",
        "  data.to_excel(f'{file_name}_ligand_count.xlsx', index = None)\n",
        "  files.download(f'{file_name}_ligand_count.xlsx')\n",
        "\n",
        "if __name__ == '__main__':\n",
        "  main()"
      ]
    },
    {
      "cell_type": "code",
      "source": [],
      "metadata": {
        "colab": {
          "base_uri": "https://localhost:8080/",
          "height": 17
        },
        "id": "5sV1y0Y3O-Rh",
        "outputId": "8131137f-c3fe-43bc-b97f-12590bcaf1ec"
      },
      "execution_count": 3,
      "outputs": [
        {
          "output_type": "display_data",
          "data": {
            "text/plain": [
              "<IPython.core.display.Javascript object>"
            ],
            "application/javascript": [
              "\n",
              "    async function download(id, filename, size) {\n",
              "      if (!google.colab.kernel.accessAllowed) {\n",
              "        return;\n",
              "      }\n",
              "      const div = document.createElement('div');\n",
              "      const label = document.createElement('label');\n",
              "      label.textContent = `Downloading \"${filename}\": `;\n",
              "      div.appendChild(label);\n",
              "      const progress = document.createElement('progress');\n",
              "      progress.max = size;\n",
              "      div.appendChild(progress);\n",
              "      document.body.appendChild(div);\n",
              "\n",
              "      const buffers = [];\n",
              "      let downloaded = 0;\n",
              "\n",
              "      const channel = await google.colab.kernel.comms.open(id);\n",
              "      // Send a message to notify the kernel that we're ready.\n",
              "      channel.send({})\n",
              "\n",
              "      for await (const message of channel.messages) {\n",
              "        // Send a message to notify the kernel that we're ready.\n",
              "        channel.send({})\n",
              "        if (message.buffers) {\n",
              "          for (const buffer of message.buffers) {\n",
              "            buffers.push(buffer);\n",
              "            downloaded += buffer.byteLength;\n",
              "            progress.value = downloaded;\n",
              "          }\n",
              "        }\n",
              "      }\n",
              "      const blob = new Blob(buffers, {type: 'application/binary'});\n",
              "      const a = document.createElement('a');\n",
              "      a.href = window.URL.createObjectURL(blob);\n",
              "      a.download = filename;\n",
              "      div.appendChild(a);\n",
              "      a.click();\n",
              "      div.remove();\n",
              "    }\n",
              "  "
            ]
          },
          "metadata": {}
        },
        {
          "output_type": "display_data",
          "data": {
            "text/plain": [
              "<IPython.core.display.Javascript object>"
            ],
            "application/javascript": [
              "download(\"download_80661616-3fe0-4e53-a8ff-ad6bcd069015\", \"Docking_template_Pfano.xlsx_ligand_count.xlsx\", 9482)"
            ]
          },
          "metadata": {}
        }
      ]
    }
  ]
}