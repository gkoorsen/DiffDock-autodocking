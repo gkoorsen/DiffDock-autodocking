{
  "cells": [
    {
      "cell_type": "markdown",
      "metadata": {
        "id": "view-in-github",
        "colab_type": "text"
      },
      "source": [
        "<a href=\"https://colab.research.google.com/github/gkoorsen/DiffDock-autodocking/blob/main/Smina_Multi_Docking.ipynb\" target=\"_parent\"><img src=\"https://colab.research.google.com/assets/colab-badge.svg\" alt=\"Open In Colab\"/></a>"
      ]
    },
    {
      "cell_type": "markdown",
      "metadata": {
        "id": "73CAqNGzHg23"
      },
      "source": [
        "#Install the necessary packages and libraries"
      ],
      "id": "73CAqNGzHg23"
    },
    {
      "cell_type": "code",
      "execution_count": null,
      "metadata": {
        "collapsed": true,
        "id": "693e33df"
      },
      "outputs": [],
      "source": [
        "!pip install biopython\n",
        "!pip install wget\n",
        "!pip install requests"
      ],
      "id": "693e33df"
    },
    {
      "cell_type": "code",
      "execution_count": null,
      "metadata": {
        "collapsed": true,
        "id": "86b8feb2"
      },
      "outputs": [],
      "source": [
        "!apt-get -qq install -y cmake\n",
        "!apt-get -qq install -y swig\n",
        "!apt-get -qq install -y libeigen3-dev\n",
        "\n"
      ],
      "id": "86b8feb2"
    },
    {
      "cell_type": "code",
      "execution_count": null,
      "metadata": {
        "id": "UFPKN-9hCYrD"
      },
      "outputs": [],
      "source": [
        "!wget https://github.com/openbabel/openbabel/archive/openbabel-2-4-1.tar.gz\n",
        "!tar xzvf openbabel-2-4-1.tar.gz\n"
      ],
      "id": "UFPKN-9hCYrD"
    },
    {
      "cell_type": "code",
      "execution_count": null,
      "metadata": {
        "id": "LiomHkQgCeBN"
      },
      "outputs": [],
      "source": [
        "!mkdir openbabel-openbabel-2-4-1/build\n",
        "%cd openbabel-openbabel-2-4-1/build\n",
        "!cmake ../ -DPYTHON_BINDINGS=ON -DRUN_SWIG=ON\n",
        "!make\n",
        "!make install\n",
        "%cd /content\n"
      ],
      "id": "LiomHkQgCeBN"
    },
    {
      "cell_type": "code",
      "execution_count": null,
      "metadata": {
        "id": "LIbsegheCi9H"
      },
      "outputs": [],
      "source": [
        "import os\n",
        "os.environ['LD_LIBRARY_PATH'] += ':/usr/local/lib'\n"
      ],
      "id": "LIbsegheCi9H"
    },
    {
      "cell_type": "code",
      "execution_count": null,
      "metadata": {
        "id": "fbed94f3"
      },
      "outputs": [],
      "source": [
        "!wget https://sourceforge.net/projects/smina/files/smina.static/download -O smina && chmod +x smina\n"
      ],
      "id": "fbed94f3"
    },
    {
      "cell_type": "code",
      "execution_count": null,
      "metadata": {
        "id": "25fe7767"
      },
      "outputs": [],
      "source": [
        "from Bio.PDB import *\n",
        "import subprocess\n",
        "import re\n",
        "import pandas as pd\n",
        "import requests\n",
        "import time\n",
        "from tqdm import tqdm\n",
        "import os\n",
        "from google.colab import files\n",
        "from numpy import mean\n",
        "from numpy import amin, amax, array\n",
        "import numpy as np\n"
      ],
      "id": "25fe7767"
    },
    {
      "cell_type": "markdown",
      "metadata": {
        "id": "9aw51GlSXW-6"
      },
      "source": [
        "# Define functions"
      ],
      "id": "9aw51GlSXW-6"
    },
    {
      "cell_type": "code",
      "execution_count": 1,
      "metadata": {
        "id": "b028a8d2",
        "colab": {
          "base_uri": "https://localhost:8080/",
          "height": 240
        },
        "outputId": "1fb719f9-eb0c-4c0a-f3f3-d5a180ea62f7"
      },
      "outputs": [
        {
          "output_type": "error",
          "ename": "NameError",
          "evalue": "ignored",
          "traceback": [
            "\u001b[0;31m---------------------------------------------------------------------------\u001b[0m",
            "\u001b[0;31mNameError\u001b[0m                                 Traceback (most recent call last)",
            "\u001b[0;32m<ipython-input-1-f50df13a3b80>\u001b[0m in \u001b[0;36m<cell line: 1>\u001b[0;34m()\u001b[0m\n\u001b[0;32m----> 1\u001b[0;31m \u001b[0;32mclass\u001b[0m \u001b[0mNoHeteroSelect\u001b[0m\u001b[0;34m(\u001b[0m\u001b[0mSelect\u001b[0m\u001b[0;34m)\u001b[0m\u001b[0;34m:\u001b[0m\u001b[0;34m\u001b[0m\u001b[0;34m\u001b[0m\u001b[0m\n\u001b[0m\u001b[1;32m      2\u001b[0m     \u001b[0;32mdef\u001b[0m \u001b[0maccept_residue\u001b[0m\u001b[0;34m(\u001b[0m\u001b[0mself\u001b[0m\u001b[0;34m,\u001b[0m \u001b[0mresidue\u001b[0m\u001b[0;34m)\u001b[0m\u001b[0;34m:\u001b[0m\u001b[0;34m\u001b[0m\u001b[0;34m\u001b[0m\u001b[0m\n\u001b[1;32m      3\u001b[0m         \u001b[0;32mreturn\u001b[0m \u001b[0;36m1\u001b[0m \u001b[0;32mif\u001b[0m \u001b[0mresidue\u001b[0m\u001b[0;34m.\u001b[0m\u001b[0mget_id\u001b[0m\u001b[0;34m(\u001b[0m\u001b[0;34m)\u001b[0m\u001b[0;34m[\u001b[0m\u001b[0;36m0\u001b[0m\u001b[0;34m]\u001b[0m \u001b[0;34m==\u001b[0m \u001b[0;34m\" \"\u001b[0m \u001b[0;32melse\u001b[0m \u001b[0;36m0\u001b[0m\u001b[0;34m\u001b[0m\u001b[0;34m\u001b[0m\u001b[0m\n\u001b[1;32m      4\u001b[0m \u001b[0;34m\u001b[0m\u001b[0m\n\u001b[1;32m      5\u001b[0m \u001b[0;32mfrom\u001b[0m \u001b[0mBio\u001b[0m\u001b[0;34m.\u001b[0m\u001b[0mPDB\u001b[0m \u001b[0;32mimport\u001b[0m \u001b[0mChain\u001b[0m\u001b[0;34m\u001b[0m\u001b[0;34m\u001b[0m\u001b[0m\n",
            "\u001b[0;31mNameError\u001b[0m: name 'Select' is not defined"
          ]
        }
      ],
      "source": [
        "class NoHeteroSelect(Select):\n",
        "    def accept_residue(self, residue):\n",
        "        return 1 if residue.get_id()[0] == \" \" else 0\n",
        "\n",
        "from Bio.PDB import Chain\n",
        "\n",
        "from Bio.PDB import PDBParser, PDBIO, Select\n",
        "from Bio.PDB.Entity import Entity\n",
        "\n",
        "\n",
        "\n",
        "def prepare_structure(name, file, ligand_res_name):\n",
        "\n",
        "  command = f\"touch {name}_ligand.pdb\"\n",
        "  process = subprocess.Popen(command, shell=True, stdout=subprocess.PIPE)\n",
        "  process.wait()\n",
        "\n",
        "\n",
        "  command = f\"grep '^HETATM.*FSN' {file} > {name}_ligand.pdb\"\n",
        "  process = subprocess.Popen(command, shell=True, stdout=subprocess.PIPE)\n",
        "  process.wait()\n",
        "\n",
        "\n",
        "  command = f'obabel {name}_ligand.pdb -O {name}_ligand.pdbqt -h'\n",
        "  process = subprocess.Popen(command, shell=True, stdout=subprocess.PIPE)\n",
        "  process.wait()\n",
        "\n",
        "\n",
        "  command = f\"touch {name}_apo.pdb\"\n",
        "  process = subprocess.Popen(command, shell=True, stdout=subprocess.PIPE)\n",
        "  process.wait()\n",
        "\n",
        "\n",
        "  command = f\"grep -v '^HETATM' {file} > {name}_apo.pdb\"\n",
        "  process = subprocess.Popen(command, shell=True, stdout=subprocess.PIPE)\n",
        "  process.wait()\n",
        "\n",
        "\n",
        "  command = f'obabel {name}_apo.pdb -O {name}_apo_prepared.pdbqt -h'\n",
        "  process = subprocess.Popen(command, shell=True, stdout=subprocess.PIPE)\n",
        "  process.wait()\n",
        "\n",
        "\n",
        "def prepare_ligand(name, smiles):\n",
        "\n",
        "    if smiles is not None:\n",
        "\n",
        "        command = f'obabel -:\\\"{smiles}\\\" -O {name}.sdf --gen2D'\n",
        "        process = subprocess.Popen(command, shell=True, stdout=subprocess.PIPE)\n",
        "        process.wait()\n",
        "\n",
        "\n",
        "        command = f'obabel {name}.sdf -O {name}_3d.sdf --gen3D'\n",
        "        process = subprocess.Popen(command, shell=True, stdout=subprocess.PIPE)\n",
        "        process.wait()\n",
        "\n",
        "        command = f'obabel {name}_3d.sdf -O {name}.pdbqt'\n",
        "        process = subprocess.Popen(command, shell=True, stdout=subprocess.PIPE)\n",
        "        process.wait()\n",
        "\n",
        "        # Print the output\n",
        "        print(process.stdout.read().decode())\n",
        "\n",
        "\n",
        "\n",
        "def dock(name, ligand_name, smiles):\n",
        "\n",
        "    prepare_ligand(ligand_name,smiles, exhaustiveness = 8)\n",
        "\n",
        "    # Define the command as a string\n",
        "    command = f\"/content/smina -r {name}_apo_prepared.pdbqt -l {ligand_name}.pdbqt --autobox_ligand {name}_ligand.pdbqt --autobox_add 8 --exhaustiveness {exhaustiveness} -o {name}_result.pdbqt\"\n",
        "    process = subprocess.Popen(command, shell=True, stdout=subprocess.PIPE)\n",
        "    process.wait()\n",
        "\n",
        "    command = f\"grep '^REMARK minimizedAffinity' {name}_result.pdbqt | head -n 1 | awk '{{print $3}}'\"\n",
        "    process = subprocess.Popen(command, shell=True, stdout=subprocess.PIPE)\n",
        "    process.wait()\n",
        "    top_score = subprocess.check_output(command, shell=True)\n",
        "    top_score = top_score.decode(\"utf-8\").strip()\n",
        "\n",
        "    return top_score\n",
        "\n",
        "\n",
        "def download_pdb_file(pdb_id: str) -> str:\n",
        "\n",
        "    PDB_DIR =\"/tmp/pdb/\"\n",
        "    os.makedirs(PDB_DIR, exist_ok=True)\n",
        "\n",
        "    # url or pdb_id\n",
        "    if pdb_id.startswith('http'):\n",
        "        url = pdb_id\n",
        "        filename = url.split('/')[-1]\n",
        "    elif pdb_id.endswith(\".pdb\"):\n",
        "        return pdb_id\n",
        "    else:\n",
        "        if pdb_id.startswith(\"AF\"):\n",
        "            url = f'https://alphafold.ebi.ac.uk/files/{pdb_id}-model_v3.pdb'\n",
        "        else:\n",
        "            url = f'http://files.rcsb.org/view/{pdb_id}.pdb'\n",
        "        filename = f'{pdb_id}.pdb'\n",
        "\n",
        "    cache_path = os.path.join(PDB_DIR, filename)\n",
        "    if os.path.exists(cache_path):\n",
        "        return cache_path\n",
        "\n",
        "    pdb_req = requests.get(url)\n",
        "    pdb_req.raise_for_status()\n",
        "    open(cache_path, 'w').write(pdb_req.text)\n",
        "    return cache_path\n"
      ],
      "id": "b028a8d2"
    },
    {
      "cell_type": "markdown",
      "metadata": {
        "id": "k83aKCqAXf19"
      },
      "source": [
        "#Upload Excel template file"
      ],
      "id": "k83aKCqAXf19"
    },
    {
      "cell_type": "code",
      "execution_count": null,
      "metadata": {
        "colab": {
          "base_uri": "https://localhost:8080/",
          "height": 74
        },
        "id": "BF_WdKOsD4r7",
        "outputId": "317b4817-3d4d-4438-d438-861ec63d3f74"
      },
      "outputs": [
        {
          "data": {
            "text/html": [
              "\n",
              "     <input type=\"file\" id=\"files-ece48575-e712-4b4e-b59f-aa29585c691f\" name=\"files[]\" multiple disabled\n",
              "        style=\"border:none\" />\n",
              "     <output id=\"result-ece48575-e712-4b4e-b59f-aa29585c691f\">\n",
              "      Upload widget is only available when the cell has been executed in the\n",
              "      current browser session. Please rerun this cell to enable.\n",
              "      </output>\n",
              "      <script>// Copyright 2017 Google LLC\n",
              "//\n",
              "// Licensed under the Apache License, Version 2.0 (the \"License\");\n",
              "// you may not use this file except in compliance with the License.\n",
              "// You may obtain a copy of the License at\n",
              "//\n",
              "//      http://www.apache.org/licenses/LICENSE-2.0\n",
              "//\n",
              "// Unless required by applicable law or agreed to in writing, software\n",
              "// distributed under the License is distributed on an \"AS IS\" BASIS,\n",
              "// WITHOUT WARRANTIES OR CONDITIONS OF ANY KIND, either express or implied.\n",
              "// See the License for the specific language governing permissions and\n",
              "// limitations under the License.\n",
              "\n",
              "/**\n",
              " * @fileoverview Helpers for google.colab Python module.\n",
              " */\n",
              "(function(scope) {\n",
              "function span(text, styleAttributes = {}) {\n",
              "  const element = document.createElement('span');\n",
              "  element.textContent = text;\n",
              "  for (const key of Object.keys(styleAttributes)) {\n",
              "    element.style[key] = styleAttributes[key];\n",
              "  }\n",
              "  return element;\n",
              "}\n",
              "\n",
              "// Max number of bytes which will be uploaded at a time.\n",
              "const MAX_PAYLOAD_SIZE = 100 * 1024;\n",
              "\n",
              "function _uploadFiles(inputId, outputId) {\n",
              "  const steps = uploadFilesStep(inputId, outputId);\n",
              "  const outputElement = document.getElementById(outputId);\n",
              "  // Cache steps on the outputElement to make it available for the next call\n",
              "  // to uploadFilesContinue from Python.\n",
              "  outputElement.steps = steps;\n",
              "\n",
              "  return _uploadFilesContinue(outputId);\n",
              "}\n",
              "\n",
              "// This is roughly an async generator (not supported in the browser yet),\n",
              "// where there are multiple asynchronous steps and the Python side is going\n",
              "// to poll for completion of each step.\n",
              "// This uses a Promise to block the python side on completion of each step,\n",
              "// then passes the result of the previous step as the input to the next step.\n",
              "function _uploadFilesContinue(outputId) {\n",
              "  const outputElement = document.getElementById(outputId);\n",
              "  const steps = outputElement.steps;\n",
              "\n",
              "  const next = steps.next(outputElement.lastPromiseValue);\n",
              "  return Promise.resolve(next.value.promise).then((value) => {\n",
              "    // Cache the last promise value to make it available to the next\n",
              "    // step of the generator.\n",
              "    outputElement.lastPromiseValue = value;\n",
              "    return next.value.response;\n",
              "  });\n",
              "}\n",
              "\n",
              "/**\n",
              " * Generator function which is called between each async step of the upload\n",
              " * process.\n",
              " * @param {string} inputId Element ID of the input file picker element.\n",
              " * @param {string} outputId Element ID of the output display.\n",
              " * @return {!Iterable<!Object>} Iterable of next steps.\n",
              " */\n",
              "function* uploadFilesStep(inputId, outputId) {\n",
              "  const inputElement = document.getElementById(inputId);\n",
              "  inputElement.disabled = false;\n",
              "\n",
              "  const outputElement = document.getElementById(outputId);\n",
              "  outputElement.innerHTML = '';\n",
              "\n",
              "  const pickedPromise = new Promise((resolve) => {\n",
              "    inputElement.addEventListener('change', (e) => {\n",
              "      resolve(e.target.files);\n",
              "    });\n",
              "  });\n",
              "\n",
              "  const cancel = document.createElement('button');\n",
              "  inputElement.parentElement.appendChild(cancel);\n",
              "  cancel.textContent = 'Cancel upload';\n",
              "  const cancelPromise = new Promise((resolve) => {\n",
              "    cancel.onclick = () => {\n",
              "      resolve(null);\n",
              "    };\n",
              "  });\n",
              "\n",
              "  // Wait for the user to pick the files.\n",
              "  const files = yield {\n",
              "    promise: Promise.race([pickedPromise, cancelPromise]),\n",
              "    response: {\n",
              "      action: 'starting',\n",
              "    }\n",
              "  };\n",
              "\n",
              "  cancel.remove();\n",
              "\n",
              "  // Disable the input element since further picks are not allowed.\n",
              "  inputElement.disabled = true;\n",
              "\n",
              "  if (!files) {\n",
              "    return {\n",
              "      response: {\n",
              "        action: 'complete',\n",
              "      }\n",
              "    };\n",
              "  }\n",
              "\n",
              "  for (const file of files) {\n",
              "    const li = document.createElement('li');\n",
              "    li.append(span(file.name, {fontWeight: 'bold'}));\n",
              "    li.append(span(\n",
              "        `(${file.type || 'n/a'}) - ${file.size} bytes, ` +\n",
              "        `last modified: ${\n",
              "            file.lastModifiedDate ? file.lastModifiedDate.toLocaleDateString() :\n",
              "                                    'n/a'} - `));\n",
              "    const percent = span('0% done');\n",
              "    li.appendChild(percent);\n",
              "\n",
              "    outputElement.appendChild(li);\n",
              "\n",
              "    const fileDataPromise = new Promise((resolve) => {\n",
              "      const reader = new FileReader();\n",
              "      reader.onload = (e) => {\n",
              "        resolve(e.target.result);\n",
              "      };\n",
              "      reader.readAsArrayBuffer(file);\n",
              "    });\n",
              "    // Wait for the data to be ready.\n",
              "    let fileData = yield {\n",
              "      promise: fileDataPromise,\n",
              "      response: {\n",
              "        action: 'continue',\n",
              "      }\n",
              "    };\n",
              "\n",
              "    // Use a chunked sending to avoid message size limits. See b/62115660.\n",
              "    let position = 0;\n",
              "    do {\n",
              "      const length = Math.min(fileData.byteLength - position, MAX_PAYLOAD_SIZE);\n",
              "      const chunk = new Uint8Array(fileData, position, length);\n",
              "      position += length;\n",
              "\n",
              "      const base64 = btoa(String.fromCharCode.apply(null, chunk));\n",
              "      yield {\n",
              "        response: {\n",
              "          action: 'append',\n",
              "          file: file.name,\n",
              "          data: base64,\n",
              "        },\n",
              "      };\n",
              "\n",
              "      let percentDone = fileData.byteLength === 0 ?\n",
              "          100 :\n",
              "          Math.round((position / fileData.byteLength) * 100);\n",
              "      percent.textContent = `${percentDone}% done`;\n",
              "\n",
              "    } while (position < fileData.byteLength);\n",
              "  }\n",
              "\n",
              "  // All done.\n",
              "  yield {\n",
              "    response: {\n",
              "      action: 'complete',\n",
              "    }\n",
              "  };\n",
              "}\n",
              "\n",
              "scope.google = scope.google || {};\n",
              "scope.google.colab = scope.google.colab || {};\n",
              "scope.google.colab._files = {\n",
              "  _uploadFiles,\n",
              "  _uploadFilesContinue,\n",
              "};\n",
              "})(self);\n",
              "</script> "
            ],
            "text/plain": [
              "<IPython.core.display.HTML object>"
            ]
          },
          "metadata": {},
          "output_type": "display_data"
        },
        {
          "name": "stdout",
          "output_type": "stream",
          "text": [
            "Saving Docking_template.xlsx to Docking_template.xlsx\n"
          ]
        }
      ],
      "source": [
        "uploaded = files.upload()\n",
        "file_name = list(uploaded.keys())[0]\n",
        "df = pd.read_excel(file_name)\n"
      ],
      "id": "BF_WdKOsD4r7"
    },
    {
      "cell_type": "code",
      "execution_count": null,
      "metadata": {
        "id": "dbe1c0bf"
      },
      "outputs": [],
      "source": [
        "PDBs = set([str(p).strip() for p in df['PDBs'].dropna()])\n",
        "smiles = df['SMILES']\n",
        "names = [f'Compound_{i}' for i in range(len(smiles))]\n",
        "ligand_tags = df['Ligands']\n",
        "compound2name = {c : n for c,n in zip(names,df['Compound names'])}"
      ],
      "id": "dbe1c0bf"
    },
    {
      "cell_type": "code",
      "execution_count": null,
      "metadata": {
        "colab": {
          "base_uri": "https://localhost:8080/"
        },
        "id": "d170206a",
        "outputId": "da8a1da5-ec71-47a0-96d8-a4c3effb9c65"
      },
      "outputs": [
        {
          "name": "stderr",
          "output_type": "stream",
          "text": [
            "100%|██████████| 1/1 [00:00<00:00, 1371.14it/s]\n"
          ]
        }
      ],
      "source": [
        "PDB_files = [download_pdb_file(p) for p in tqdm(PDBs)]"
      ],
      "id": "d170206a"
    },
    {
      "cell_type": "markdown",
      "metadata": {
        "id": "BVNqIU6maXOy"
      },
      "source": [
        "#Perform Docking"
      ],
      "id": "BVNqIU6maXOy"
    },
    {
      "cell_type": "code",
      "execution_count": null,
      "metadata": {
        "colab": {
          "background_save": true
        },
        "id": "8b6273f4"
      },
      "outputs": [],
      "source": [
        "top_affinities = {}\n",
        "\n",
        "for (n,p,l) in zip(PDBs,PDB_files,ligand_tags):\n",
        "    print(f'\\t Preparing receptor {n}....')\n",
        "    prepare_structure(n,p,l)\n",
        "    for m,s,c in zip(names,smiles,df['Compound names']):\n",
        "        if s != None:\n",
        "            top_affinities[(n,m)] = dock(n,m,s)\n",
        "            print(f'-{c}: {top_affinities[(n,m)]}')\n"
      ],
      "id": "8b6273f4"
    },
    {
      "cell_type": "code",
      "execution_count": null,
      "metadata": {
        "id": "T_lJrk59bVho"
      },
      "outputs": [],
      "source": [],
      "id": "T_lJrk59bVho"
    }
  ],
  "metadata": {
    "colab": {
      "provenance": [],
      "collapsed_sections": [
        "73CAqNGzHg23",
        "k83aKCqAXf19",
        "BVNqIU6maXOy"
      ],
      "include_colab_link": true
    },
    "kernelspec": {
      "display_name": "Python 3 (ipykernel)",
      "language": "python",
      "name": "python3"
    },
    "language_info": {
      "codemirror_mode": {
        "name": "ipython",
        "version": 3
      },
      "file_extension": ".py",
      "mimetype": "text/x-python",
      "name": "python",
      "nbconvert_exporter": "python",
      "pygments_lexer": "ipython3",
      "version": "3.11.4"
    }
  },
  "nbformat": 4,
  "nbformat_minor": 5
}